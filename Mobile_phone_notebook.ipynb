{
 "cells": [
  {
   "cell_type": "markdown",
   "metadata": {},
   "source": [
    "# <span style=\"color:blue\"> Mobile price classification </span>\n",
    "\n",
    "Authors: <ins>*Alessio Franchi, Manuel Naviglio*</ins>\n",
    "\n",
    "The aim of this notebook is to explore and analize the mobile-phones dataset to get new useful insights.\n",
    "The mobile_price dataset contains **20** features:\n",
    "\n",
    "0. **battery_power** : Total energy a battery can store in one time measured in mAh\n",
    "1. **blue** : Has bluetooth or not\n",
    "2. **clock_speed** : Speed at which microprocessor executes instructions\n",
    "3. **dual_sim** : Has dual sim support or not\n",
    "4. **fc** : Front Camera mega pixels\n",
    "5. **four_g** : Has 4G or not\n",
    "6. **int_memory** : Internal Memory in Gigabytes\n",
    "7. **m_dep** : Mobile Depth in cm\n",
    "<img src=\"https://cdn.pixabay.com/photo/2016/12/09/11/33/smartphone-1894723_960_720.jpg\" align=\"right\" width=\"420\" height=\"620\">\n",
    "8. **mobile_wt** : Weight of mobile phone\n",
    "9. **n_cores** : Number of cores of processor\n",
    "10. **pc** : Primary Camera mega pixels\n",
    "11. **px_height** : Pixel Resolution Height\n",
    "12. **px_width** : Pixel Resolution Width\n",
    "13. **ram** : Random Access Memory in Megabytes\n",
    "14. **sc_h** : Screen Height of mobile in cm\n",
    "15. **sc_w** : Screen Width of mobile in cm\n",
    "16. **talk_time** : Longest time that a single battery charge will last when you are\n",
    "17. **three_g** : Has 3G or not\n",
    "18. **touch_screen** : Has touch screen or not\n",
    "19. **wifi** : Has wifi or not\n",
    "20. **price_range** : Price range of the mobile\n",
    "\n"
   ]
  },
  {
   "cell_type": "code",
   "execution_count": 1,
   "metadata": {},
   "outputs": [],
   "source": [
    "# standard imports\n",
    "import numpy as np\n",
    "import pandas as pd\n",
    "import matplotlib.pyplot as plt\n",
    "import seaborn as sns    # visualization library\n",
    "%matplotlib inline"
   ]
  },
  {
   "cell_type": "code",
   "execution_count": 9,
   "metadata": {},
   "outputs": [],
   "source": [
    "# read the dataset\n",
    "data = pd.read_csv('mobile_price_classification.csv')"
   ]
  },
  {
   "cell_type": "code",
   "execution_count": 18,
   "metadata": {},
   "outputs": [
    {
     "name": "stdout",
     "output_type": "stream",
     "text": [
      "<class 'pandas.core.frame.DataFrame'>\n",
      "RangeIndex: 2000 entries, 0 to 1999\n",
      "Data columns (total 21 columns):\n",
      " #   Column         Non-Null Count  Dtype  \n",
      "---  ------         --------------  -----  \n",
      " 0   battery_power  2000 non-null   int64  \n",
      " 1   blue           2000 non-null   int64  \n",
      " 2   clock_speed    2000 non-null   float64\n",
      " 3   dual_sim       2000 non-null   int64  \n",
      " 4   fc             2000 non-null   int64  \n",
      " 5   four_g         2000 non-null   int64  \n",
      " 6   int_memory     2000 non-null   int64  \n",
      " 7   m_dep          2000 non-null   float64\n",
      " 8   mobile_wt      2000 non-null   int64  \n",
      " 9   n_cores        2000 non-null   int64  \n",
      " 10  pc             2000 non-null   int64  \n",
      " 11  px_height      2000 non-null   int64  \n",
      " 12  px_width       2000 non-null   int64  \n",
      " 13  ram            2000 non-null   int64  \n",
      " 14  sc_h           2000 non-null   int64  \n",
      " 15  sc_w           2000 non-null   int64  \n",
      " 16  talk_time      2000 non-null   int64  \n",
      " 17  three_g        2000 non-null   int64  \n",
      " 18  touch_screen   2000 non-null   int64  \n",
      " 19  wifi           2000 non-null   int64  \n",
      " 20  price_range    2000 non-null   int64  \n",
      "dtypes: float64(2), int64(19)\n",
      "memory usage: 328.2 KB\n",
      "None\n"
     ]
    }
   ],
   "source": [
    "# main info and describe\n",
    "print(data.info())"
   ]
  }
 ],
 "metadata": {
  "kernelspec": {
   "display_name": "Python 3",
   "language": "python",
   "name": "python3"
  },
  "language_info": {
   "codemirror_mode": {
    "name": "ipython",
    "version": 3
   },
   "file_extension": ".py",
   "mimetype": "text/x-python",
   "name": "python",
   "nbconvert_exporter": "python",
   "pygments_lexer": "ipython3",
   "version": "3.8.5"
  }
 },
 "nbformat": 4,
 "nbformat_minor": 4
}

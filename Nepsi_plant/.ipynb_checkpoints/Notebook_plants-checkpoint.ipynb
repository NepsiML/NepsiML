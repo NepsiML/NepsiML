{
 "cells": [
  {
   "cell_type": "code",
   "execution_count": 1,
   "metadata": {},
   "outputs": [],
   "source": [
    "import numpy as np\n",
    "import pandas as pd\n",
    "import matplotlib.pyplot as plt\n",
    "import seaborn as sns\n",
    "import torch\n",
    "import torchvision"
   ]
  },
  {
   "cell_type": "code",
   "execution_count": 2,
   "metadata": {},
   "outputs": [
    {
     "name": "stdout",
     "output_type": "stream",
     "text": [
      "Directory path:  .\\new-plant-diseases-dataset\\Apple___Apple_scab\n",
      "Folder name:  []\n",
      "Directory path:  .\\new-plant-diseases-dataset\\Corn_(maize)___healthy\n",
      "Folder name:  []\n",
      "Directory path:  .\\new-plant-diseases-dataset\\Potato___Late_blight\n",
      "Folder name:  []\n",
      "tensor([0, 1, 1, 0, 0, 2, 2, 1, 2, 1, 0, 0, 1, 0, 2, 0, 2, 0, 2, 2, 2, 1, 1, 2,\n",
      "        2, 2, 0, 2, 0, 0, 2, 1])\n"
     ]
    }
   ],
   "source": [
    "# import py script\n",
    "import preprocessing"
   ]
  },
  {
   "cell_type": "code",
   "execution_count": null,
   "metadata": {},
   "outputs": [],
   "source": []
  }
 ],
 "metadata": {
  "kernelspec": {
   "display_name": "Python 3 (ipykernel)",
   "language": "python",
   "name": "python3"
  },
  "language_info": {
   "codemirror_mode": {
    "name": "ipython",
    "version": 3
   },
   "file_extension": ".py",
   "mimetype": "text/x-python",
   "name": "python",
   "nbconvert_exporter": "python",
   "pygments_lexer": "ipython3",
   "version": "3.8.5"
  }
 },
 "nbformat": 4,
 "nbformat_minor": 4
}
